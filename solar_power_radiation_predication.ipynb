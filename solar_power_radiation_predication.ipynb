{
  "nbformat": 4,
  "nbformat_minor": 0,
  "metadata": {
    "colab": {
      "name": "solar_power_radiation_predication.ipynb",
      "provenance": [],
      "include_colab_link": true
    },
    "kernelspec": {
      "name": "python3",
      "display_name": "Python 3"
    }
  },
  "cells": [
    {
      "cell_type": "markdown",
      "metadata": {
        "id": "view-in-github",
        "colab_type": "text"
      },
      "source": [
        "<a href=\"https://colab.research.google.com/github/Hutaf/SpaceApp/blob/main/solar_power_radiation_predication.ipynb\" target=\"_parent\"><img src=\"https://colab.research.google.com/assets/colab-badge.svg\" alt=\"Open In Colab\"/></a>"
      ]
    },
    {
      "cell_type": "markdown",
      "metadata": {
        "id": "UicUNHNs7wGC"
      },
      "source": [
        "# **Solar Power Radiation Predication**\n",
        "## Based on the All Sky Surface Longwave Downward Irradiance variable\n",
        "\n"
      ]
    },
    {
      "cell_type": "code",
      "metadata": {
        "id": "-kMcwx2S7jOR"
      },
      "source": [
        "# Importing all the libraries\n",
        "import numpy as np\n",
        "import pandas as pd\n",
        "import matplotlib.pyplot as plt\n",
        "from matplotlib import style\n",
        "from sklearn import preprocessing\n",
        "from sklearn.linear_model import LinearRegression, Lasso\n",
        "from sklearn.model_selection import train_test_split\n",
        "from datetime import datetime, timedelta\n",
        "import tensorflow as tf\n",
        "from tensorflow import keras\n",
        "from tensorflow.keras.models import Sequential\n",
        "from tensorflow.keras.layers import Dense, Dropout\n",
        "\n",
        "%matplotlib inline"
      ],
      "execution_count": 3,
      "outputs": []
    },
    {
      "cell_type": "markdown",
      "metadata": {
        "id": "k6wzetIP_hgj"
      },
      "source": [
        "## importing dataset"
      ]
    },
    {
      "cell_type": "code",
      "metadata": {
        "id": "UUYvoox9_gut",
        "colab": {
          "base_uri": "https://localhost:8080/",
          "height": 417
        },
        "outputId": "cd060b5c-5aa4-4972-d112-61148609a2bb"
      },
      "source": [
        "#data_path = r'drive/My Drive/Proj/S.P.F./solarpowergeneration.csv'\n",
        "dts = pd.read_csv('/content/User_Lat_24.76399_Lon_46.640249 (1).csv')\n",
        "dts.head()\n"
      ],
      "execution_count": 4,
      "outputs": [
        {
          "output_type": "execute_result",
          "data": {
            "text/html": [
              "<div>\n",
              "<style scoped>\n",
              "    .dataframe tbody tr th:only-of-type {\n",
              "        vertical-align: middle;\n",
              "    }\n",
              "\n",
              "    .dataframe tbody tr th {\n",
              "        vertical-align: top;\n",
              "    }\n",
              "\n",
              "    .dataframe thead th {\n",
              "        text-align: right;\n",
              "    }\n",
              "</style>\n",
              "<table border=\"1\" class=\"dataframe\">\n",
              "  <thead>\n",
              "    <tr style=\"text-align: right;\">\n",
              "      <th></th>\n",
              "      <th>Unnamed: 0</th>\n",
              "      <th>V10M</th>\n",
              "      <th>ALLSKY_SRF_ALB</th>\n",
              "      <th>ALLSKY_SFC_PAR_TOT</th>\n",
              "      <th>ALLSKY_SFC_UV_INDEX</th>\n",
              "      <th>T2MWET</th>\n",
              "      <th>WS10M</th>\n",
              "      <th>PS</th>\n",
              "      <th>ALLSKY_KT</th>\n",
              "      <th>SZA</th>\n",
              "      <th>CLRSKY_SFC_LW_DWN</th>\n",
              "      <th>QV2M</th>\n",
              "      <th>T2M</th>\n",
              "      <th>WD10M</th>\n",
              "      <th>T2MDEW</th>\n",
              "      <th>ALLSKY_SFC_LW_DWN</th>\n",
              "      <th>RH2M</th>\n",
              "      <th>ALLSKY_SFC_UVB</th>\n",
              "      <th>ALLSKY_SFC_UVA</th>\n",
              "      <th>PRECTOTCORR</th>\n",
              "    </tr>\n",
              "  </thead>\n",
              "  <tbody>\n",
              "    <tr>\n",
              "      <th>0</th>\n",
              "      <td>2033-12-24 04:08:20</td>\n",
              "      <td>-3.16</td>\n",
              "      <td>-999.0</td>\n",
              "      <td>0.0</td>\n",
              "      <td>0.0</td>\n",
              "      <td>10.03</td>\n",
              "      <td>4.55</td>\n",
              "      <td>94.97</td>\n",
              "      <td>-999.0</td>\n",
              "      <td>90.0</td>\n",
              "      <td>277.45</td>\n",
              "      <td>8.06</td>\n",
              "      <td>10.12</td>\n",
              "      <td>46.04</td>\n",
              "      <td>9.94</td>\n",
              "      <td>279.90</td>\n",
              "      <td>98.62</td>\n",
              "      <td>0.0</td>\n",
              "      <td>0.0</td>\n",
              "      <td>0.0</td>\n",
              "    </tr>\n",
              "    <tr>\n",
              "      <th>1</th>\n",
              "      <td>2033-12-24 04:08:21</td>\n",
              "      <td>-3.12</td>\n",
              "      <td>-999.0</td>\n",
              "      <td>0.0</td>\n",
              "      <td>0.0</td>\n",
              "      <td>9.79</td>\n",
              "      <td>4.67</td>\n",
              "      <td>94.98</td>\n",
              "      <td>-999.0</td>\n",
              "      <td>90.0</td>\n",
              "      <td>277.20</td>\n",
              "      <td>7.81</td>\n",
              "      <td>10.02</td>\n",
              "      <td>48.12</td>\n",
              "      <td>9.55</td>\n",
              "      <td>288.33</td>\n",
              "      <td>96.62</td>\n",
              "      <td>0.0</td>\n",
              "      <td>0.0</td>\n",
              "      <td>0.0</td>\n",
              "    </tr>\n",
              "    <tr>\n",
              "      <th>2</th>\n",
              "      <td>2033-12-24 04:08:22</td>\n",
              "      <td>-2.94</td>\n",
              "      <td>-999.0</td>\n",
              "      <td>0.0</td>\n",
              "      <td>0.0</td>\n",
              "      <td>9.41</td>\n",
              "      <td>4.54</td>\n",
              "      <td>94.95</td>\n",
              "      <td>-999.0</td>\n",
              "      <td>90.0</td>\n",
              "      <td>277.15</td>\n",
              "      <td>7.57</td>\n",
              "      <td>9.74</td>\n",
              "      <td>49.68</td>\n",
              "      <td>9.09</td>\n",
              "      <td>277.83</td>\n",
              "      <td>95.62</td>\n",
              "      <td>0.0</td>\n",
              "      <td>0.0</td>\n",
              "      <td>0.0</td>\n",
              "    </tr>\n",
              "    <tr>\n",
              "      <th>3</th>\n",
              "      <td>2033-12-24 04:08:23</td>\n",
              "      <td>-2.45</td>\n",
              "      <td>-999.0</td>\n",
              "      <td>0.0</td>\n",
              "      <td>0.0</td>\n",
              "      <td>8.99</td>\n",
              "      <td>4.11</td>\n",
              "      <td>94.92</td>\n",
              "      <td>-999.0</td>\n",
              "      <td>90.0</td>\n",
              "      <td>281.50</td>\n",
              "      <td>7.39</td>\n",
              "      <td>9.30</td>\n",
              "      <td>53.35</td>\n",
              "      <td>8.69</td>\n",
              "      <td>284.92</td>\n",
              "      <td>95.81</td>\n",
              "      <td>0.0</td>\n",
              "      <td>0.0</td>\n",
              "      <td>0.0</td>\n",
              "    </tr>\n",
              "    <tr>\n",
              "      <th>4</th>\n",
              "      <td>2033-12-24 04:08:24</td>\n",
              "      <td>-2.11</td>\n",
              "      <td>-999.0</td>\n",
              "      <td>0.0</td>\n",
              "      <td>0.0</td>\n",
              "      <td>8.65</td>\n",
              "      <td>3.89</td>\n",
              "      <td>94.93</td>\n",
              "      <td>-999.0</td>\n",
              "      <td>90.0</td>\n",
              "      <td>282.08</td>\n",
              "      <td>7.20</td>\n",
              "      <td>9.00</td>\n",
              "      <td>57.20</td>\n",
              "      <td>8.30</td>\n",
              "      <td>285.02</td>\n",
              "      <td>95.19</td>\n",
              "      <td>0.0</td>\n",
              "      <td>0.0</td>\n",
              "      <td>0.0</td>\n",
              "    </tr>\n",
              "  </tbody>\n",
              "</table>\n",
              "</div>"
            ],
            "text/plain": [
              "            Unnamed: 0  V10M  ...  ALLSKY_SFC_UVA  PRECTOTCORR\n",
              "0  2033-12-24 04:08:20 -3.16  ...             0.0          0.0\n",
              "1  2033-12-24 04:08:21 -3.12  ...             0.0          0.0\n",
              "2  2033-12-24 04:08:22 -2.94  ...             0.0          0.0\n",
              "3  2033-12-24 04:08:23 -2.45  ...             0.0          0.0\n",
              "4  2033-12-24 04:08:24 -2.11  ...             0.0          0.0\n",
              "\n",
              "[5 rows x 20 columns]"
            ]
          },
          "metadata": {},
          "execution_count": 4
        }
      ]
    },
    {
      "cell_type": "code",
      "metadata": {
        "colab": {
          "base_uri": "https://localhost:8080/",
          "height": 517
        },
        "id": "LtLXHJw3TXyK",
        "outputId": "1e46eacd-7002-4def-bb8f-8ead6f9a9eff"
      },
      "source": [
        "# Visualizing the ALLSKY_SFC_LW_DWN\n",
        "dts['ALLSKY_SFC_LW_DWN'].plot(label='ALLSKY_SFC_LW_DWN', figsize=(12, 8), title='ALLSKY_SFC_LW_DWN from 2019/01/01 to 2021/03/01 (hourly)', color='blue', linewidth=0.9, grid=True)\n",
        "plt.legend()"
      ],
      "execution_count": 6,
      "outputs": [
        {
          "output_type": "execute_result",
          "data": {
            "text/plain": [
              "<matplotlib.legend.Legend at 0x7f6e75e915d0>"
            ]
          },
          "metadata": {},
          "execution_count": 6
        },
        {
          "output_type": "display_data",
          "data": {
            "image/png": "[encoded data removed]",
            "text/plain": [
              "<Figure size 864x576 with 1 Axes>"
            ]
          },
          "metadata": {
            "needs_background": "light"
          }
        }
      ]
    },
    {
      "cell_type": "code",
      "metadata": {
        "colab": {
          "base_uri": "https://localhost:8080/",
          "height": 226
        },
        "id": "v3m8WQsGU4ow",
        "outputId": "3c5e1c4e-8af7-476d-c19c-fcdefa0ef0e8"
      },
      "source": [
        "# Dropping some columns\n",
        "\n",
        "dts = dts.drop([\"Unnamed: 0\", \"ALLSKY_SRF_ALB\", \"ALLSKY_SFC_PAR_TOT\", \"T2MWET\", \"ALLSKY_KT\",\t\"SZA\", \"CLRSKY_SFC_LW_DWN\", \t\"QV2M\",\t \"T2MDEW\"], axis = 1)\n",
        "dts.head()"
      ],
      "execution_count": 10,
      "outputs": [
        {
          "output_type": "execute_result",
          "data": {
            "text/html": [
              "<div>\n",
              "<style scoped>\n",
              "    .dataframe tbody tr th:only-of-type {\n",
              "        vertical-align: middle;\n",
              "    }\n",
              "\n",
              "    .dataframe tbody tr th {\n",
              "        vertical-align: top;\n",
              "    }\n",
              "\n",
              "    .dataframe thead th {\n",
              "        text-align: right;\n",
              "    }\n",
              "</style>\n",
              "<table border=\"1\" class=\"dataframe\">\n",
              "  <thead>\n",
              "    <tr style=\"text-align: right;\">\n",
              "      <th></th>\n",
              "      <th>V10M</th>\n",
              "      <th>ALLSKY_SFC_UV_INDEX</th>\n",
              "      <th>WS10M</th>\n",
              "      <th>PS</th>\n",
              "      <th>T2M</th>\n",
              "      <th>WD10M</th>\n",
              "      <th>ALLSKY_SFC_LW_DWN</th>\n",
              "      <th>RH2M</th>\n",
              "      <th>ALLSKY_SFC_UVB</th>\n",
              "      <th>ALLSKY_SFC_UVA</th>\n",
              "      <th>PRECTOTCORR</th>\n",
              "    </tr>\n",
              "  </thead>\n",
              "  <tbody>\n",
              "    <tr>\n",
              "      <th>0</th>\n",
              "      <td>-3.16</td>\n",
              "      <td>0.0</td>\n",
              "      <td>4.55</td>\n",
              "      <td>94.97</td>\n",
              "      <td>10.12</td>\n",
              "      <td>46.04</td>\n",
              "      <td>279.90</td>\n",
              "      <td>98.62</td>\n",
              "      <td>0.0</td>\n",
              "      <td>0.0</td>\n",
              "      <td>0.0</td>\n",
              "    </tr>\n",
              "    <tr>\n",
              "      <th>1</th>\n",
              "      <td>-3.12</td>\n",
              "      <td>0.0</td>\n",
              "      <td>4.67</td>\n",
              "      <td>94.98</td>\n",
              "      <td>10.02</td>\n",
              "      <td>48.12</td>\n",
              "      <td>288.33</td>\n",
              "      <td>96.62</td>\n",
              "      <td>0.0</td>\n",
              "      <td>0.0</td>\n",
              "      <td>0.0</td>\n",
              "    </tr>\n",
              "    <tr>\n",
              "      <th>2</th>\n",
              "      <td>-2.94</td>\n",
              "      <td>0.0</td>\n",
              "      <td>4.54</td>\n",
              "      <td>94.95</td>\n",
              "      <td>9.74</td>\n",
              "      <td>49.68</td>\n",
              "      <td>277.83</td>\n",
              "      <td>95.62</td>\n",
              "      <td>0.0</td>\n",
              "      <td>0.0</td>\n",
              "      <td>0.0</td>\n",
              "    </tr>\n",
              "    <tr>\n",
              "      <th>3</th>\n",
              "      <td>-2.45</td>\n",
              "      <td>0.0</td>\n",
              "      <td>4.11</td>\n",
              "      <td>94.92</td>\n",
              "      <td>9.30</td>\n",
              "      <td>53.35</td>\n",
              "      <td>284.92</td>\n",
              "      <td>95.81</td>\n",
              "      <td>0.0</td>\n",
              "      <td>0.0</td>\n",
              "      <td>0.0</td>\n",
              "    </tr>\n",
              "    <tr>\n",
              "      <th>4</th>\n",
              "      <td>-2.11</td>\n",
              "      <td>0.0</td>\n",
              "      <td>3.89</td>\n",
              "      <td>94.93</td>\n",
              "      <td>9.00</td>\n",
              "      <td>57.20</td>\n",
              "      <td>285.02</td>\n",
              "      <td>95.19</td>\n",
              "      <td>0.0</td>\n",
              "      <td>0.0</td>\n",
              "      <td>0.0</td>\n",
              "    </tr>\n",
              "  </tbody>\n",
              "</table>\n",
              "</div>"
            ],
            "text/plain": [
              "   V10M  ALLSKY_SFC_UV_INDEX  ...  ALLSKY_SFC_UVA  PRECTOTCORR\n",
              "0 -3.16                  0.0  ...             0.0          0.0\n",
              "1 -3.12                  0.0  ...             0.0          0.0\n",
              "2 -2.94                  0.0  ...             0.0          0.0\n",
              "3 -2.45                  0.0  ...             0.0          0.0\n",
              "4 -2.11                  0.0  ...             0.0          0.0\n",
              "\n",
              "[5 rows x 11 columns]"
            ]
          },
          "metadata": {},
          "execution_count": 10
        }
      ]
    },
    {
      "cell_type": "code",
      "metadata": {
        "colab": {
          "base_uri": "https://localhost:8080/"
        },
        "id": "rvSuIK6pT32d",
        "outputId": "44d4500e-e0dc-4ddc-c045-67de861322f2"
      },
      "source": [
        "# Dropping the Prediction Row\n",
        "X = np.array(dts.drop([\"ALLSKY_SFC_LW_DWN\"], axis = 1))\n",
        "print(X.shape)"
      ],
      "execution_count": 12,
      "outputs": [
        {
          "output_type": "stream",
          "name": "stdout",
          "text": [
            "(19674, 10)\n"
          ]
        }
      ]
    },
    {
      "cell_type": "code",
      "metadata": {
        "colab": {
          "base_uri": "https://localhost:8080/"
        },
        "id": "Q2MROeDgVZCp",
        "outputId": "a1d36b5d-7b45-4039-fa24-f66daf90987d"
      },
      "source": [
        "# Creating the Prediction Row\n",
        "y = np.array(dts[\"ALLSKY_SFC_LW_DWN\"])   \n",
        "# print(y)\n",
        "print(y.shape)"
      ],
      "execution_count": 15,
      "outputs": [
        {
          "output_type": "stream",
          "name": "stdout",
          "text": [
            "(19674,)\n"
          ]
        }
      ]
    },
    {
      "cell_type": "markdown",
      "metadata": {
        "id": "Au0uOU0fJrmw"
      },
      "source": [
        "## Data Splitting into training and test set"
      ]
    },
    {
      "cell_type": "code",
      "metadata": {
        "id": "lIlEtx-hJv3c",
        "tags": [],
        "colab": {
          "base_uri": "https://localhost:8080/"
        },
        "outputId": "43e3eee4-8341-436e-a6e8-6e81b6c7fd9f"
      },
      "source": [
        "from sklearn.model_selection import train_test_split\n",
        "X_train, X_test, y_train, y_test = train_test_split(X, y, test_size=0.25, random_state=42)\n",
        "print(\"Train Shape: {} {} \\nTest Shape: {} {}\".format(X_train.shape, y_train.shape, X_test.shape, y_test.shape))"
      ],
      "execution_count": 17,
      "outputs": [
        {
          "output_type": "stream",
          "name": "stdout",
          "text": [
            "Train Shape: (14755, 10) (14755,) \n",
            "Test Shape: (4919, 10) (4919,)\n"
          ]
        }
      ]
    },
    {
      "cell_type": "markdown",
      "metadata": {
        "id": "DxLkrF84POip"
      },
      "source": [
        "## Features Scaling (Standard Scler)"
      ]
    },
    {
      "cell_type": "code",
      "metadata": {
        "id": "puwEuG45PaBm"
      },
      "source": [
        "from sklearn.preprocessing import StandardScaler\n",
        "# input scaling\n",
        "sc_X = StandardScaler()\n",
        "X_train = sc_X.fit_transform(X_train)\n",
        "X_test = sc_X.transform(X_test)\n",
        "\n",
        "y_train= y_train.reshape(-1, 1)\n",
        "y_test= y_test.reshape(-1, 1)\n",
        "\n",
        "# outcome scaling:\n",
        "sc_y = StandardScaler()\n",
        "y_train = sc_y.fit_transform(y_train)    \n",
        "y_test = sc_y.transform(y_test)"
      ],
      "execution_count": 20,
      "outputs": []
    },
    {
      "cell_type": "code",
      "metadata": {
        "id": "7gSZs2z9VGxq",
        "colab": {
          "base_uri": "https://localhost:8080/"
        },
        "outputId": "2d121843-cf7b-4fad-f4d8-927986df71fe"
      },
      "source": [
        "X_train"
      ],
      "execution_count": 21,
      "outputs": [
        {
          "output_type": "execute_result",
          "data": {
            "text/plain": [
              "array([[-0.73698689,  0.18055825, -0.28571665, ...,  2.49794941,\n",
              "         2.14835858, -0.06869497],\n",
              "       [ 0.84371838,  0.06007324, -0.75502977, ..., -0.62648982,\n",
              "        -0.7370069 , -0.06869497],\n",
              "       [ 0.42940999,  0.06007324, -1.27234083, ..., -0.62648982,\n",
              "        -0.7370069 , -0.06869497],\n",
              "       ...,\n",
              "       [-2.16727447,  0.12388791,  2.5408283 , ...,  1.12251693,\n",
              "         1.25942491, -0.06869497],\n",
              "       [-0.43879041,  0.06007324, -0.54703873, ..., -0.62648982,\n",
              "        -0.7370069 , -0.06869497],\n",
              "       [-0.98768306,  0.06007324,  0.02360337, ..., -0.62648982,\n",
              "        -0.7370069 , -0.06869497]])"
            ]
          },
          "metadata": {},
          "execution_count": 21
        }
      ]
    },
    {
      "cell_type": "code",
      "metadata": {
        "id": "Rpk0HK7LVGjP",
        "colab": {
          "base_uri": "https://localhost:8080/"
        },
        "outputId": "8382a007-e601-4b0d-e8bf-056401aff545"
      },
      "source": [
        "X_test"
      ],
      "execution_count": 22,
      "outputs": [
        {
          "output_type": "execute_result",
          "data": {
            "text/plain": [
              "array([[-0.52059652,  0.06007324, -0.89902357, ..., -0.62648982,\n",
              "        -0.7370069 , -0.06869497],\n",
              "       [-0.61559717,  0.06007324, -0.73369736, ..., -0.62648982,\n",
              "        -0.7370069 , -0.06869497],\n",
              "       [-0.83198754,  0.06007324, -0.29104975, ..., -0.62648982,\n",
              "        -0.7370069 , -0.06869497],\n",
              "       ...,\n",
              "       [-2.55255489,  0.10487671,  3.18613385, ...,  0.64705878,\n",
              "         1.04295698, -0.06869497],\n",
              "       [ 1.97580948,  0.06007324,  1.54887102, ..., -0.62648982,\n",
              "        -0.7370069 , -0.06869497],\n",
              "       [-1.25949047,  0.18140589,  0.6475765 , ...,  2.565872  ,\n",
              "         2.20811001, -0.06869497]])"
            ]
          },
          "metadata": {},
          "execution_count": 22
        }
      ]
    },
    {
      "cell_type": "code",
      "metadata": {
        "id": "famB9gS7c8Em",
        "colab": {
          "base_uri": "https://localhost:8080/"
        },
        "outputId": "e51f4fc9-8b46-46f5-dd3d-d1eb0fb41fb5"
      },
      "source": [
        "y_train"
      ],
      "execution_count": 23,
      "outputs": [
        {
          "output_type": "execute_result",
          "data": {
            "text/plain": [
              "array([[ 1.21864006],\n",
              "       [-1.48635608],\n",
              "       [-0.83027825],\n",
              "       ...,\n",
              "       [ 1.47129384],\n",
              "       [-1.52464351],\n",
              "       [-1.41821743]])"
            ]
          },
          "metadata": {},
          "execution_count": 23
        }
      ]
    },
    {
      "cell_type": "markdown",
      "metadata": {
        "id": "E4fAUVv1WdpH"
      },
      "source": [
        "# Linear regression"
      ]
    },
    {
      "cell_type": "code",
      "metadata": {
        "colab": {
          "base_uri": "https://localhost:8080/"
        },
        "id": "CueF1U06WgM8",
        "outputId": "3067d565-02d0-49f4-9201-3e7fa2fdc944"
      },
      "source": [
        "# Defining the Linear Regression Model\n",
        "\n",
        "linear_model = LinearRegression()\n",
        "linear_model.fit(X_train, y_train)      # Training the algorithm"
      ],
      "execution_count": 24,
      "outputs": [
        {
          "output_type": "execute_result",
          "data": {
            "text/plain": [
              "LinearRegression(copy_X=True, fit_intercept=True, n_jobs=None, normalize=False)"
            ]
          },
          "metadata": {},
          "execution_count": 24
        }
      ]
    },
    {
      "cell_type": "code",
      "metadata": {
        "colab": {
          "base_uri": "https://localhost:8080/"
        },
        "id": "PENbryzfWmLj",
        "outputId": "95ae6e3f-9400-49a6-9581-1d72fd055b06"
      },
      "source": [
        "# Score of the Linear Regression Model (Using the Test Data)\n",
        "\n",
        "linear_model_score = linear_model.score(X_test, y_test)\n",
        "print('Linear Model score:', linear_model_score)"
      ],
      "execution_count": 25,
      "outputs": [
        {
          "output_type": "stream",
          "name": "stdout",
          "text": [
            "Linear Model score: -57.222563533746964\n"
          ]
        }
      ]
    },
    {
      "cell_type": "code",
      "metadata": {
        "id": "DXo0VUP6WsDz"
      },
      "source": [
        "# Define the Real & Prediction Values\n",
        "\n",
        "X_predict = np.array(dts.drop([\"ALLSKY_SFC_LW_DWN\"], 1))[-predict_days:]\n",
        "\n",
        "linear_model_predict_prediction = linear_model.predict(X_predict)\n",
        "linear_model_real_prediction = linear_model.predict(np.array(dts.drop([\"ALLSKY_SFC_LW_DWN\"], 1)))"
      ],
      "execution_count": 27,
      "outputs": []
    },
    {
      "cell_type": "markdown",
      "metadata": {
        "id": "6tGc4COqgQtk"
      },
      "source": [
        "# Feature Importance"
      ]
    },
    {
      "cell_type": "code",
      "metadata": {
        "id": "GKr5aSj2Pl92",
        "colab": {
          "base_uri": "https://localhost:8080/",
          "height": 363
        },
        "outputId": "75727d59-eabc-4241-eba2-a3431c3c9a18"
      },
      "source": [
        "lasso = Lasso(alpha = 0.001)\n",
        "\n",
        "lasso.fit(X_train, y_train)\n",
        "\n",
        "y_pred_lasso = lasso.predict(X_test)\n",
        "\n",
        "lasso_coeff = pd.DataFrame({'Feature Importance':lasso.coef_}, index=dts.columns[:-1])\n",
        "lasso_coeff.sort_values('Feature Importance', ascending=False)"
      ],
      "execution_count": 65,
      "outputs": [
        {
          "output_type": "execute_result",
          "data": {
            "text/html": [
              "<div>\n",
              "<style scoped>\n",
              "    .dataframe tbody tr th:only-of-type {\n",
              "        vertical-align: middle;\n",
              "    }\n",
              "\n",
              "    .dataframe tbody tr th {\n",
              "        vertical-align: top;\n",
              "    }\n",
              "\n",
              "    .dataframe thead th {\n",
              "        text-align: right;\n",
              "    }\n",
              "</style>\n",
              "<table border=\"1\" class=\"dataframe\">\n",
              "  <thead>\n",
              "    <tr style=\"text-align: right;\">\n",
              "      <th></th>\n",
              "      <th>Feature Importance</th>\n",
              "    </tr>\n",
              "  </thead>\n",
              "  <tbody>\n",
              "    <tr>\n",
              "      <th>T2M</th>\n",
              "      <td>1.09</td>\n",
              "    </tr>\n",
              "    <tr>\n",
              "      <th>RH2M</th>\n",
              "      <td>0.31</td>\n",
              "    </tr>\n",
              "    <tr>\n",
              "      <th>ALLSKY_SFC_LW_DWN</th>\n",
              "      <td>0.27</td>\n",
              "    </tr>\n",
              "    <tr>\n",
              "      <th>V10M</th>\n",
              "      <td>0.08</td>\n",
              "    </tr>\n",
              "    <tr>\n",
              "      <th>WS10M</th>\n",
              "      <td>0.04</td>\n",
              "    </tr>\n",
              "    <tr>\n",
              "      <th>ALLSKY_SFC_UVA</th>\n",
              "      <td>0.04</td>\n",
              "    </tr>\n",
              "    <tr>\n",
              "      <th>ALLSKY_SFC_UV_INDEX</th>\n",
              "      <td>0.02</td>\n",
              "    </tr>\n",
              "    <tr>\n",
              "      <th>WD10M</th>\n",
              "      <td>-0.02</td>\n",
              "    </tr>\n",
              "    <tr>\n",
              "      <th>PS</th>\n",
              "      <td>-0.06</td>\n",
              "    </tr>\n",
              "    <tr>\n",
              "      <th>ALLSKY_SFC_UVB</th>\n",
              "      <td>-0.48</td>\n",
              "    </tr>\n",
              "  </tbody>\n",
              "</table>\n",
              "</div>"
            ],
            "text/plain": [
              "                     Feature Importance\n",
              "T2M                                1.09\n",
              "RH2M                               0.31\n",
              "ALLSKY_SFC_LW_DWN                  0.27\n",
              "V10M                               0.08\n",
              "WS10M                              0.04\n",
              "ALLSKY_SFC_UVA                     0.04\n",
              "ALLSKY_SFC_UV_INDEX                0.02\n",
              "WD10M                             -0.02\n",
              "PS                                -0.06\n",
              "ALLSKY_SFC_UVB                    -0.48"
            ]
          },
          "metadata": {},
          "execution_count": 65
        }
      ]
    },
    {
      "cell_type": "code",
      "metadata": {
        "id": "Z5e4LUBgPl93",
        "colab": {
          "base_uri": "https://localhost:8080/",
          "height": 320
        },
        "outputId": "673e2eda-2ecb-40d3-a1e7-129886315efc"
      },
      "source": [
        "g = lasso_coeff[lasso_coeff['Feature Importance']!=0].sort_values('Feature Importance').plot(kind='barh',figsize=(5,5))"
      ],
      "execution_count": 67,
      "outputs": [
        {
          "output_type": "display_data",
          "data": {
            "image/png": "[encoded data removed]",
            "text/plain": [
              "<Figure size 360x360 with 1 Axes>"
            ]
          },
          "metadata": {
            "needs_background": "light"
          }
        }
      ]
    },
    {
      "cell_type": "markdown",
      "metadata": {
        "id": "6MwTUkzTWDTL"
      },
      "source": [
        "## Creating Neural Network"
      ]
    },
    {
      "cell_type": "code",
      "metadata": {
        "id": "HPu2xxHcSQOB"
      },
      "source": [
        "def create_newnet(n_layers, n_activation, kernels):\n",
        "  model = tf.keras.models.Sequential()\n",
        "  for i, nodes in enumerate(n_layers):\n",
        "    if i==0:\n",
        "      model.add(Dense(nodes, kernel_initializer=kernels, activation=n_activation, input_dim=X_train.shape[1]))\n",
        "      model.add(Dropout(0.3))\n",
        "    else:\n",
        "      model.add(Dense(nodes, activation=n_activation, kernel_initializer=kernels)) \n",
        "  model.add(Dense(1))\n",
        "  model.compile(loss='mse', \n",
        "                optimizer='adam',\n",
        "                metrics=[tf.keras.metrics.RootMeanSquaredError()])\n",
        "  return model\n"
      ],
      "execution_count": 43,
      "outputs": []
    },
    {
      "cell_type": "code",
      "metadata": {
        "id": "4GmFjW2UePTI",
        "tags": [],
        "colab": {
          "base_uri": "https://localhost:8080/"
        },
        "outputId": "a3ea234c-2503-464c-f9f4-4942fdafdb3b"
      },
      "source": [
        "clf = create_newnet([32, 64], 'relu', 'normal')\n",
        "clf.summary()"
      ],
      "execution_count": 44,
      "outputs": [
        {
          "output_type": "stream",
          "name": "stdout",
          "text": [
            "Model: \"sequential\"\n",
            "_________________________________________________________________\n",
            "Layer (type)                 Output Shape              Param #   \n",
            "=================================================================\n",
            "dense (Dense)                (None, 32)                352       \n",
            "_________________________________________________________________\n",
            "dropout (Dropout)            (None, 32)                0         \n",
            "_________________________________________________________________\n",
            "dense_1 (Dense)              (None, 64)                2112      \n",
            "_________________________________________________________________\n",
            "dense_2 (Dense)              (None, 1)                 65        \n",
            "=================================================================\n",
            "Total params: 2,529\n",
            "Trainable params: 2,529\n",
            "Non-trainable params: 0\n",
            "_________________________________________________________________\n"
          ]
        }
      ]
    },
    {
      "cell_type": "code",
      "metadata": {
        "id": "lY4tgg3jjiqF",
        "colab": {
          "base_uri": "https://localhost:8080/"
        },
        "tags": [],
        "outputId": "d81b8865-4358-41ea-a764-3cb12336c31c"
      },
      "source": [
        "hist = clf.fit(X_train, y_train, batch_size=32, validation_data=(X_test, y_test),epochs=100 mb h, verbose=2)"
      ],
      "execution_count": 45,
      "outputs": [
        {
          "output_type": "stream",
          "name": "stdout",
          "text": [
            "Epoch 1/100\n",
            "462/462 - 2s - loss: 0.2967 - root_mean_squared_error: 0.5447 - val_loss: 127224.9766 - val_root_mean_squared_error: 356.6861\n",
            "Epoch 2/100\n",
            "462/462 - 1s - loss: 0.2053 - root_mean_squared_error: 0.4531 - val_loss: 127219.3906 - val_root_mean_squared_error: 356.6783\n",
            "Epoch 3/100\n",
            "462/462 - 1s - loss: 0.1922 - root_mean_squared_error: 0.4384 - val_loss: 127200.5938 - val_root_mean_squared_error: 356.6519\n",
            "Epoch 4/100\n",
            "462/462 - 1s - loss: 0.1866 - root_mean_squared_error: 0.4320 - val_loss: 127179.1016 - val_root_mean_squared_error: 356.6218\n",
            "Epoch 5/100\n",
            "462/462 - 1s - loss: 0.1811 - root_mean_squared_error: 0.4256 - val_loss: 127215.2656 - val_root_mean_squared_error: 356.6725\n",
            "Epoch 6/100\n",
            "462/462 - 1s - loss: 0.1774 - root_mean_squared_error: 0.4212 - val_loss: 127176.8359 - val_root_mean_squared_error: 356.6186\n",
            "Epoch 7/100\n",
            "462/462 - 1s - loss: 0.1755 - root_mean_squared_error: 0.4189 - val_loss: 127187.5938 - val_root_mean_squared_error: 356.6337\n",
            "Epoch 8/100\n",
            "462/462 - 1s - loss: 0.1724 - root_mean_squared_error: 0.4153 - val_loss: 127156.4062 - val_root_mean_squared_error: 356.5900\n",
            "Epoch 9/100\n",
            "462/462 - 1s - loss: 0.1717 - root_mean_squared_error: 0.4143 - val_loss: 127163.4688 - val_root_mean_squared_error: 356.5999\n",
            "Epoch 10/100\n",
            "462/462 - 1s - loss: 0.1692 - root_mean_squared_error: 0.4113 - val_loss: 127219.5625 - val_root_mean_squared_error: 356.6785\n",
            "Epoch 11/100\n",
            "462/462 - 1s - loss: 0.1682 - root_mean_squared_error: 0.4101 - val_loss: 127188.5312 - val_root_mean_squared_error: 356.6350\n",
            "Epoch 12/100\n",
            "462/462 - 1s - loss: 0.1671 - root_mean_squared_error: 0.4088 - val_loss: 127141.7344 - val_root_mean_squared_error: 356.5694\n",
            "Epoch 13/100\n",
            "462/462 - 1s - loss: 0.1635 - root_mean_squared_error: 0.4043 - val_loss: 127159.3516 - val_root_mean_squared_error: 356.5941\n",
            "Epoch 14/100\n",
            "462/462 - 1s - loss: 0.1645 - root_mean_squared_error: 0.4056 - val_loss: 127128.6328 - val_root_mean_squared_error: 356.5510\n",
            "Epoch 15/100\n",
            "462/462 - 1s - loss: 0.1620 - root_mean_squared_error: 0.4025 - val_loss: 127178.2422 - val_root_mean_squared_error: 356.6206\n",
            "Epoch 16/100\n",
            "462/462 - 1s - loss: 0.1633 - root_mean_squared_error: 0.4041 - val_loss: 127115.2031 - val_root_mean_squared_error: 356.5322\n",
            "Epoch 17/100\n",
            "462/462 - 1s - loss: 0.1606 - root_mean_squared_error: 0.4008 - val_loss: 127147.7656 - val_root_mean_squared_error: 356.5779\n",
            "Epoch 18/100\n",
            "462/462 - 1s - loss: 0.1599 - root_mean_squared_error: 0.3999 - val_loss: 127133.1016 - val_root_mean_squared_error: 356.5573\n",
            "Epoch 19/100\n",
            "462/462 - 1s - loss: 0.1614 - root_mean_squared_error: 0.4018 - val_loss: 127135.5234 - val_root_mean_squared_error: 356.5607\n",
            "Epoch 20/100\n",
            "462/462 - 1s - loss: 0.1587 - root_mean_squared_error: 0.3984 - val_loss: 127169.9141 - val_root_mean_squared_error: 356.6089\n",
            "Epoch 21/100\n",
            "462/462 - 1s - loss: 0.1574 - root_mean_squared_error: 0.3968 - val_loss: 127133.1719 - val_root_mean_squared_error: 356.5574\n",
            "Epoch 22/100\n",
            "462/462 - 1s - loss: 0.1587 - root_mean_squared_error: 0.3984 - val_loss: 127177.9141 - val_root_mean_squared_error: 356.6201\n",
            "Epoch 23/100\n",
            "462/462 - 1s - loss: 0.1576 - root_mean_squared_error: 0.3969 - val_loss: 127108.7656 - val_root_mean_squared_error: 356.5232\n",
            "Epoch 24/100\n",
            "462/462 - 1s - loss: 0.1576 - root_mean_squared_error: 0.3970 - val_loss: 127132.0938 - val_root_mean_squared_error: 356.5559\n",
            "Epoch 25/100\n",
            "462/462 - 1s - loss: 0.1552 - root_mean_squared_error: 0.3939 - val_loss: 127136.3281 - val_root_mean_squared_error: 356.5618\n",
            "Epoch 26/100\n",
            "462/462 - 1s - loss: 0.1552 - root_mean_squared_error: 0.3939 - val_loss: 127149.1328 - val_root_mean_squared_error: 356.5798\n",
            "Epoch 27/100\n",
            "462/462 - 1s - loss: 0.1544 - root_mean_squared_error: 0.3930 - val_loss: 127105.1172 - val_root_mean_squared_error: 356.5180\n",
            "Epoch 28/100\n",
            "462/462 - 1s - loss: 0.1551 - root_mean_squared_error: 0.3938 - val_loss: 127111.2969 - val_root_mean_squared_error: 356.5267\n",
            "Epoch 29/100\n",
            "462/462 - 1s - loss: 0.1537 - root_mean_squared_error: 0.3920 - val_loss: 127120.5859 - val_root_mean_squared_error: 356.5397\n",
            "Epoch 30/100\n",
            "462/462 - 1s - loss: 0.1529 - root_mean_squared_error: 0.3910 - val_loss: 127155.0312 - val_root_mean_squared_error: 356.5880\n",
            "Epoch 31/100\n",
            "462/462 - 1s - loss: 0.1526 - root_mean_squared_error: 0.3906 - val_loss: 127152.6094 - val_root_mean_squared_error: 356.5847\n",
            "Epoch 32/100\n",
            "462/462 - 1s - loss: 0.1511 - root_mean_squared_error: 0.3887 - val_loss: 127122.8359 - val_root_mean_squared_error: 356.5429\n",
            "Epoch 33/100\n",
            "462/462 - 1s - loss: 0.1513 - root_mean_squared_error: 0.3889 - val_loss: 127120.5234 - val_root_mean_squared_error: 356.5396\n",
            "Epoch 34/100\n",
            "462/462 - 1s - loss: 0.1504 - root_mean_squared_error: 0.3878 - val_loss: 127143.5781 - val_root_mean_squared_error: 356.5720\n",
            "Epoch 35/100\n",
            "462/462 - 1s - loss: 0.1491 - root_mean_squared_error: 0.3862 - val_loss: 127143.4062 - val_root_mean_squared_error: 356.5717\n",
            "Epoch 36/100\n",
            "462/462 - 1s - loss: 0.1495 - root_mean_squared_error: 0.3866 - val_loss: 127111.2734 - val_root_mean_squared_error: 356.5267\n",
            "Epoch 37/100\n",
            "462/462 - 1s - loss: 0.1485 - root_mean_squared_error: 0.3854 - val_loss: 127105.3906 - val_root_mean_squared_error: 356.5184\n",
            "Epoch 38/100\n",
            "462/462 - 1s - loss: 0.1496 - root_mean_squared_error: 0.3868 - val_loss: 127140.0938 - val_root_mean_squared_error: 356.5671\n",
            "Epoch 39/100\n",
            "462/462 - 1s - loss: 0.1500 - root_mean_squared_error: 0.3873 - val_loss: 127112.6406 - val_root_mean_squared_error: 356.5286\n",
            "Epoch 40/100\n",
            "462/462 - 1s - loss: 0.1496 - root_mean_squared_error: 0.3868 - val_loss: 127158.1094 - val_root_mean_squared_error: 356.5923\n",
            "Epoch 41/100\n",
            "462/462 - 1s - loss: 0.1484 - root_mean_squared_error: 0.3852 - val_loss: 127137.8906 - val_root_mean_squared_error: 356.5640\n",
            "Epoch 42/100\n",
            "462/462 - 1s - loss: 0.1498 - root_mean_squared_error: 0.3870 - val_loss: 127141.4609 - val_root_mean_squared_error: 356.5690\n",
            "Epoch 43/100\n",
            "462/462 - 1s - loss: 0.1484 - root_mean_squared_error: 0.3853 - val_loss: 127138.4375 - val_root_mean_squared_error: 356.5648\n",
            "Epoch 44/100\n",
            "462/462 - 1s - loss: 0.1470 - root_mean_squared_error: 0.3834 - val_loss: 127126.1172 - val_root_mean_squared_error: 356.5475\n",
            "Epoch 45/100\n",
            "462/462 - 1s - loss: 0.1470 - root_mean_squared_error: 0.3834 - val_loss: 127117.0625 - val_root_mean_squared_error: 356.5348\n",
            "Epoch 46/100\n",
            "462/462 - 1s - loss: 0.1474 - root_mean_squared_error: 0.3840 - val_loss: 127148.8906 - val_root_mean_squared_error: 356.5794\n",
            "Epoch 47/100\n",
            "462/462 - 1s - loss: 0.1480 - root_mean_squared_error: 0.3847 - val_loss: 127128.9922 - val_root_mean_squared_error: 356.5515\n",
            "Epoch 48/100\n",
            "462/462 - 1s - loss: 0.1479 - root_mean_squared_error: 0.3846 - val_loss: 127126.1172 - val_root_mean_squared_error: 356.5475\n",
            "Epoch 49/100\n",
            "462/462 - 1s - loss: 0.1471 - root_mean_squared_error: 0.3835 - val_loss: 127123.4922 - val_root_mean_squared_error: 356.5438\n",
            "Epoch 50/100\n",
            "462/462 - 1s - loss: 0.1456 - root_mean_squared_error: 0.3815 - val_loss: 127107.8359 - val_root_mean_squared_error: 356.5219\n",
            "Epoch 51/100\n",
            "462/462 - 1s - loss: 0.1467 - root_mean_squared_error: 0.3830 - val_loss: 127110.3984 - val_root_mean_squared_error: 356.5255\n",
            "Epoch 52/100\n",
            "462/462 - 1s - loss: 0.1444 - root_mean_squared_error: 0.3800 - val_loss: 127110.5547 - val_root_mean_squared_error: 356.5257\n",
            "Epoch 53/100\n",
            "462/462 - 1s - loss: 0.1452 - root_mean_squared_error: 0.3810 - val_loss: 127143.5391 - val_root_mean_squared_error: 356.5719\n",
            "Epoch 54/100\n",
            "462/462 - 1s - loss: 0.1471 - root_mean_squared_error: 0.3835 - val_loss: 127126.0781 - val_root_mean_squared_error: 356.5475\n",
            "Epoch 55/100\n",
            "462/462 - 1s - loss: 0.1459 - root_mean_squared_error: 0.3820 - val_loss: 127111.1719 - val_root_mean_squared_error: 356.5266\n",
            "Epoch 56/100\n",
            "462/462 - 1s - loss: 0.1461 - root_mean_squared_error: 0.3822 - val_loss: 127099.8516 - val_root_mean_squared_error: 356.5107\n",
            "Epoch 57/100\n",
            "462/462 - 1s - loss: 0.1446 - root_mean_squared_error: 0.3803 - val_loss: 127115.0859 - val_root_mean_squared_error: 356.5320\n",
            "Epoch 58/100\n",
            "462/462 - 1s - loss: 0.1455 - root_mean_squared_error: 0.3815 - val_loss: 127139.4766 - val_root_mean_squared_error: 356.5662\n",
            "Epoch 59/100\n",
            "462/462 - 1s - loss: 0.1444 - root_mean_squared_error: 0.3800 - val_loss: 127125.1172 - val_root_mean_squared_error: 356.5461\n",
            "Epoch 60/100\n",
            "462/462 - 1s - loss: 0.1447 - root_mean_squared_error: 0.3805 - val_loss: 127153.4531 - val_root_mean_squared_error: 356.5858\n",
            "Epoch 61/100\n",
            "462/462 - 1s - loss: 0.1458 - root_mean_squared_error: 0.3819 - val_loss: 127126.5859 - val_root_mean_squared_error: 356.5482\n",
            "Epoch 62/100\n",
            "462/462 - 1s - loss: 0.1456 - root_mean_squared_error: 0.3816 - val_loss: 127146.8984 - val_root_mean_squared_error: 356.5766\n",
            "Epoch 63/100\n",
            "462/462 - 1s - loss: 0.1451 - root_mean_squared_error: 0.3809 - val_loss: 127128.0547 - val_root_mean_squared_error: 356.5502\n",
            "Epoch 64/100\n",
            "462/462 - 1s - loss: 0.1432 - root_mean_squared_error: 0.3784 - val_loss: 127100.8750 - val_root_mean_squared_error: 356.5121\n",
            "Epoch 65/100\n",
            "462/462 - 1s - loss: 0.1440 - root_mean_squared_error: 0.3795 - val_loss: 127101.8438 - val_root_mean_squared_error: 356.5135\n",
            "Epoch 66/100\n",
            "462/462 - 1s - loss: 0.1437 - root_mean_squared_error: 0.3791 - val_loss: 127117.7109 - val_root_mean_squared_error: 356.5357\n",
            "Epoch 67/100\n",
            "462/462 - 1s - loss: 0.1431 - root_mean_squared_error: 0.3782 - val_loss: 127099.7812 - val_root_mean_squared_error: 356.5106\n",
            "Epoch 68/100\n",
            "462/462 - 1s - loss: 0.1418 - root_mean_squared_error: 0.3766 - val_loss: 127117.5469 - val_root_mean_squared_error: 356.5355\n",
            "Epoch 69/100\n",
            "462/462 - 1s - loss: 0.1445 - root_mean_squared_error: 0.3801 - val_loss: 127137.5781 - val_root_mean_squared_error: 356.5636\n",
            "Epoch 70/100\n",
            "462/462 - 1s - loss: 0.1442 - root_mean_squared_error: 0.3797 - val_loss: 127109.6094 - val_root_mean_squared_error: 356.5244\n",
            "Epoch 71/100\n",
            "462/462 - 1s - loss: 0.1426 - root_mean_squared_error: 0.3777 - val_loss: 127109.3203 - val_root_mean_squared_error: 356.5239\n",
            "Epoch 72/100\n",
            "462/462 - 1s - loss: 0.1443 - root_mean_squared_error: 0.3798 - val_loss: 127108.6328 - val_root_mean_squared_error: 356.5230\n",
            "Epoch 73/100\n",
            "462/462 - 1s - loss: 0.1441 - root_mean_squared_error: 0.3797 - val_loss: 127091.8516 - val_root_mean_squared_error: 356.4995\n",
            "Epoch 74/100\n",
            "462/462 - 1s - loss: 0.1438 - root_mean_squared_error: 0.3793 - val_loss: 127085.7969 - val_root_mean_squared_error: 356.4909\n",
            "Epoch 75/100\n",
            "462/462 - 1s - loss: 0.1446 - root_mean_squared_error: 0.3803 - val_loss: 127130.8828 - val_root_mean_squared_error: 356.5542\n",
            "Epoch 76/100\n",
            "462/462 - 1s - loss: 0.1440 - root_mean_squared_error: 0.3795 - val_loss: 127139.6484 - val_root_mean_squared_error: 356.5665\n",
            "Epoch 77/100\n",
            "462/462 - 1s - loss: 0.1429 - root_mean_squared_error: 0.3780 - val_loss: 127165.7734 - val_root_mean_squared_error: 356.6031\n",
            "Epoch 78/100\n",
            "462/462 - 1s - loss: 0.1433 - root_mean_squared_error: 0.3786 - val_loss: 127114.7344 - val_root_mean_squared_error: 356.5315\n",
            "Epoch 79/100\n",
            "462/462 - 1s - loss: 0.1435 - root_mean_squared_error: 0.3789 - val_loss: 127121.4844 - val_root_mean_squared_error: 356.5410\n",
            "Epoch 80/100\n",
            "462/462 - 1s - loss: 0.1423 - root_mean_squared_error: 0.3772 - val_loss: 127133.9531 - val_root_mean_squared_error: 356.5585\n",
            "Epoch 81/100\n",
            "462/462 - 1s - loss: 0.1416 - root_mean_squared_error: 0.3763 - val_loss: 127120.6797 - val_root_mean_squared_error: 356.5399\n",
            "Epoch 82/100\n",
            "462/462 - 1s - loss: 0.1417 - root_mean_squared_error: 0.3764 - val_loss: 127102.8672 - val_root_mean_squared_error: 356.5149\n",
            "Epoch 83/100\n",
            "462/462 - 1s - loss: 0.1432 - root_mean_squared_error: 0.3784 - val_loss: 127115.3438 - val_root_mean_squared_error: 356.5324\n",
            "Epoch 84/100\n",
            "462/462 - 1s - loss: 0.1414 - root_mean_squared_error: 0.3760 - val_loss: 127153.6328 - val_root_mean_squared_error: 356.5861\n",
            "Epoch 85/100\n",
            "462/462 - 1s - loss: 0.1430 - root_mean_squared_error: 0.3781 - val_loss: 127152.2969 - val_root_mean_squared_error: 356.5842\n",
            "Epoch 86/100\n",
            "462/462 - 1s - loss: 0.1436 - root_mean_squared_error: 0.3790 - val_loss: 127132.9453 - val_root_mean_squared_error: 356.5571\n",
            "Epoch 87/100\n",
            "462/462 - 1s - loss: 0.1418 - root_mean_squared_error: 0.3766 - val_loss: 127102.2812 - val_root_mean_squared_error: 356.5141\n",
            "Epoch 88/100\n",
            "462/462 - 1s - loss: 0.1437 - root_mean_squared_error: 0.3790 - val_loss: 127086.7734 - val_root_mean_squared_error: 356.4923\n",
            "Epoch 89/100\n",
            "462/462 - 1s - loss: 0.1428 - root_mean_squared_error: 0.3779 - val_loss: 127114.8672 - val_root_mean_squared_error: 356.5317\n",
            "Epoch 90/100\n",
            "462/462 - 1s - loss: 0.1410 - root_mean_squared_error: 0.3756 - val_loss: 127118.8047 - val_root_mean_squared_error: 356.5372\n",
            "Epoch 91/100\n",
            "462/462 - 1s - loss: 0.1420 - root_mean_squared_error: 0.3768 - val_loss: 127127.3516 - val_root_mean_squared_error: 356.5492\n",
            "Epoch 92/100\n",
            "462/462 - 1s - loss: 0.1411 - root_mean_squared_error: 0.3757 - val_loss: 127120.0703 - val_root_mean_squared_error: 356.5390\n",
            "Epoch 93/100\n",
            "462/462 - 1s - loss: 0.1402 - root_mean_squared_error: 0.3744 - val_loss: 127106.0312 - val_root_mean_squared_error: 356.5193\n",
            "Epoch 94/100\n",
            "462/462 - 1s - loss: 0.1428 - root_mean_squared_error: 0.3779 - val_loss: 127153.4375 - val_root_mean_squared_error: 356.5858\n",
            "Epoch 95/100\n",
            "462/462 - 1s - loss: 0.1418 - root_mean_squared_error: 0.3765 - val_loss: 127109.7344 - val_root_mean_squared_error: 356.5245\n",
            "Epoch 96/100\n",
            "462/462 - 1s - loss: 0.1410 - root_mean_squared_error: 0.3755 - val_loss: 127128.3047 - val_root_mean_squared_error: 356.5506\n",
            "Epoch 97/100\n",
            "462/462 - 1s - loss: 0.1423 - root_mean_squared_error: 0.3772 - val_loss: 127114.5938 - val_root_mean_squared_error: 356.5313\n",
            "Epoch 98/100\n",
            "462/462 - 1s - loss: 0.1408 - root_mean_squared_error: 0.3753 - val_loss: 127128.5938 - val_root_mean_squared_error: 356.5510\n",
            "Epoch 99/100\n",
            "462/462 - 1s - loss: 0.1407 - root_mean_squared_error: 0.3751 - val_loss: 127106.8359 - val_root_mean_squared_error: 356.5204\n",
            "Epoch 100/100\n",
            "462/462 - 1s - loss: 0.1397 - root_mean_squared_error: 0.3738 - val_loss: 127105.3047 - val_root_mean_squared_error: 356.5183\n"
          ]
        }
      ]
    },
    {
      "cell_type": "code",
      "metadata": {
        "id": "f4co7KnVAdTH",
        "colab": {
          "base_uri": "https://localhost:8080/",
          "height": 295
        },
        "outputId": "66010709-d768-4bae-d095-6d3d5a992a93"
      },
      "source": [
        "plt.plot(hist.history['root_mean_squared_error'])\n",
        "#plt.plot(hist.history['val_root_mean_squared_error'])\n",
        "plt.title('Root Mean Squares Error')\n",
        "plt.xlabel('Epochs')\n",
        "plt.ylabel('error')\n",
        "plt.show()"
      ],
      "execution_count": 46,
      "outputs": [
        {
          "output_type": "display_data",
          "data": {
            "image/png": "[encoded data removed]",
            "text/plain": [
              "<Figure size 432x288 with 1 Axes>"
            ]
          },
          "metadata": {
            "needs_background": "light"
          }
        }
      ]
    },
    {
      "cell_type": "code",
      "metadata": {
        "tags": [],
        "id": "Azflb53jPl9v",
        "colab": {
          "base_uri": "https://localhost:8080/"
        },
        "outputId": "f0b25481-b727-4581-ccd7-6f1deb23ee47"
      },
      "source": [
        "clf.evaluate(X_train, y_train)"
      ],
      "execution_count": 47,
      "outputs": [
        {
          "output_type": "stream",
          "name": "stdout",
          "text": [
            "462/462 [==============================] - 1s 1ms/step - loss: 0.2044 - root_mean_squared_error: 0.4522\n"
          ]
        },
        {
          "output_type": "execute_result",
          "data": {
            "text/plain": [
              "[0.20444083213806152, 0.4521513283252716]"
            ]
          },
          "metadata": {},
          "execution_count": 47
        }
      ]
    },
    {
      "cell_type": "code",
      "metadata": {
        "id": "lN96mOUBPl9w",
        "colab": {
          "base_uri": "https://localhost:8080/"
        },
        "outputId": "faf92386-3486-4a4d-8fc4-f8c2cb1968a2"
      },
      "source": [
        "from sklearn.metrics import mean_squared_error\n",
        "\n",
        "y_pred = clf.predict(X_test) # get model predictions (scaled inputs here)\n",
        "y_pred_orig = sc_y.inverse_transform(y_pred) # unscale the predictions\n",
        "y_test_orig = sc_y.inverse_transform(y_test) # unscale the true test outcomes\n",
        "\n",
        "RMSE_orig = mean_squared_error(y_pred_orig, y_test_orig, squared=False)\n",
        "RMSE_orig"
      ],
      "execution_count": 48,
      "outputs": [
        {
          "output_type": "execute_result",
          "data": {
            "text/plain": [
              "356.5183084478506"
            ]
          },
          "metadata": {},
          "execution_count": 48
        }
      ]
    },
    {
      "cell_type": "code",
      "metadata": {
        "id": "gQx8qNDgPl9x",
        "colab": {
          "base_uri": "https://localhost:8080/"
        },
        "outputId": "66aa4e34-cadf-43bd-b371-fe7642e5d7d3"
      },
      "source": [
        "from sklearn.metrics import r2_score\n",
        "r2_score(y_pred_orig, y_test_orig)"
      ],
      "execution_count": 50,
      "outputs": [
        {
          "output_type": "execute_result",
          "data": {
            "text/plain": [
              "-244409.8007350342"
            ]
          },
          "metadata": {},
          "execution_count": 50
        }
      ]
    },
    {
      "cell_type": "code",
      "metadata": {
        "id": "226vCQnQPl92",
        "colab": {
          "base_uri": "https://localhost:8080/",
          "height": 909
        },
        "outputId": "1f5c4fb1-04be-48e0-ebed-9c723a9665d9"
      },
      "source": [
        "import seaborn as sns\n",
        "corr = dts.corr()\n",
        "plt.figure(figsize=(22,22))\n",
        "sns.heatmap(corr, annot=True, square=True);"
      ],
      "execution_count": 63,
      "outputs": [
        {
          "output_type": "display_data",
          "data": {
            "image/png": "[encoded data removed]",
            "text/plain": [
              "<Figure size 1584x1584 with 2 Axes>"
            ]
          },
          "metadata": {
            "needs_background": "light"
          }
        }
      ]
    },
    {
      "cell_type": "markdown",
      "metadata": {
        "id": "Y0uexHmXPl92"
      },
      "source": [
        "**OBSERVATIONS**\n",
        "- Relative Humidity and pressure (PS) are corr (0.56)\n",
        "- High negative corr between temerature and pressure (-.78)\n",
        "- Relative humidity and Temperature are -vely correlated (-.73)\n",
        "\n"
      ]
    }
  ]
}